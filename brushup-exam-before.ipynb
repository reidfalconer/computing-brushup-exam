{
 "cells": [
  {
   "cell_type": "code",
   "execution_count": 148,
   "metadata": {
    "autoscroll": false,
    "ein.tags": "worksheet-0",
    "slideshow": {
     "slide_type": "-"
    }
   },
   "outputs": [
    {
     "name": "stdout",
     "output_type": "stream",
     "text": [
      "The rpy2.ipython extension is already loaded. To reload it, use:\n",
      "  %reload_ext rpy2.ipython\n"
     ]
    }
   ],
   "source": [
    "%load_ext rpy2.ipython"
   ]
  },
  {
   "cell_type": "markdown",
   "metadata": {
    "ein.tags": "worksheet-0",
    "slideshow": {
     "slide_type": "-"
    }
   },
   "source": [
    "# Problem 1: The Command Line\n",
    "\n",
    "SSH into your instance. \n",
    "\n",
    "You will find a file located at $HOME/not-your-folder/2018_padro_nacionalitat_per_sexe.csv \n",
    "\n",
    "Your job is to create a new folder at $HOME/this-is-the-one, and move the csv file into that new folder"
   ]
  },
  {
   "cell_type": "markdown",
   "metadata": {
    "ein.tags": "worksheet-0",
    "slideshow": {
     "slide_type": "-"
    }
   },
   "source": [
    "# Problem 2: Plotting in R"
   ]
  },
  {
   "cell_type": "code",
   "execution_count": 156,
   "metadata": {
    "autoscroll": false,
    "ein.tags": "worksheet-0",
    "slideshow": {
     "slide_type": "-"
    }
   },
   "outputs": [],
   "source": [
    "%%R\n",
    "library(tidyverse)"
   ]
  },
  {
   "cell_type": "code",
   "execution_count": 157,
   "metadata": {
    "autoscroll": false,
    "ein.tags": "worksheet-0",
    "slideshow": {
     "slide_type": "-"
    }
   },
   "outputs": [
    {
     "data": {
      "text/plain": [
       "Observations: 7,446\n",
       "Variables: 8\n",
       "$ Any            <int> 2018, 2018, 2018, 2018, 2018, 2018, 2018, 2018, 2018...\n",
       "$ Codi_Districte <int> 1, 1, 1, 1, 2, 2, 2, 2, 2, 2, 3, 3, 3, 3, 3, 3, 3, 3...\n",
       "$ Nom_Districte  <chr> \"Ciutat Vella\", \"Ciutat Vella\", \"Ciutat Vella\", \"Ciu...\n",
       "$ Codi_Barri     <int> 1, 2, 3, 4, 5, 6, 7, 8, 9, 10, 11, 12, 13, 14, 15, 1...\n",
       "$ Nom_Barri      <chr> \"el Raval\", \"el Barri Gòtic\", \"la Barceloneta\", \"San...\n",
       "$ Sexe           <chr> \"Home\", \"Home\", \"Home\", \"Home\", \"Home\", \"Home\", \"Hom...\n",
       "$ Nacionalitat   <chr> \"Espanya\", \"Espanya\", \"Espanya\", \"Espanya\", \"Espanya...\n",
       "$ Nombre         <int> 11732, 4214, 4607, 6235, 11532, 18692, 15761, 15241,...\n"
      ]
     },
     "metadata": {},
     "output_type": "display_data"
    }
   ],
   "source": [
    "%%R\n",
    "\n",
    "# Read the file '2018_padro_nacionalitat_per_sexe.csv' from the new location, using read_csv\n",
    "# put the resulting Tibble into a variable called 'barris'\n",
    "\n",
    "barris <- read_csv(\"../this-is-the-one/2018_padro_nacionalitat_per_sexe.csv\")\n",
    "head(barris)\n",
    "glimpse(barris)"
   ]
  },
  {
   "cell_type": "code",
   "execution_count": 158,
   "metadata": {
    "autoscroll": false,
    "ein.tags": "worksheet-0",
    "slideshow": {
     "slide_type": "-"
    }
   },
   "outputs": [
    {
     "data": {
      "image/png": "[encoded data removed]"
     },
     "metadata": {},
     "output_type": "display_data"
    }
   ],
   "source": [
    "%%R\n",
    "\n",
    "# Let's manually convert a few columns into factors. \n",
    "barris %>% mutate(Nom_Barri = parse_factor(Nom_Barri, NULL), \n",
    "                  Sexe = parse_factor(Sexe, NULL),\n",
    "                  Nacionalitat = parse_factor(Nacionalitat, NULL)) %>%\n",
    "        dplyr::filter(Nom_Barri == \"el Poblenou\") %>%\n",
    "        dplyr::filter(Nacionalitat != \"Espanya\") %>%  \n",
    "        group_by(Nacionalitat, Sexe) %>%  \n",
    "        summarise(count = sum(Nombre)) %>% \n",
    "        filter(count > 100) %>% \n",
    "        ggplot (aes(x = reorder(Nacionalitat, count), y = count, fill = Sexe)) +\n",
    "        geom_col() +\n",
    "        coord_flip() +\n",
    "        labs(title = \"Non-Spanish Population Living in el Poblenou\", \n",
    "        subtitle = \"by Sexe (Home and Dona)\", \n",
    "        caption = \"Source: Own Compilation. Padro Nacionalitat 2018 Data\") +  # title and caption+\n",
    "        xlab(\"Nacionalitat\") +\n",
    "        ylab(\"Population\")\n",
    "\n",
    "\n",
    "# We want to explore the neighborhood referred to as 'el Poblenou', in the variable\n",
    "# 'Nom_Barri' (neighborhood name). We will take a look at the gender and nationality\n",
    "# of the non-Spanish population in this neighborhood. \n",
    "#\n",
    "# First, filter the data to only 'el Poblenou'\n",
    "# Second, remove the nationality 'Espanya'\n",
    "# Third, plot a horizontal bar chart of the population counted by 'Nacionalitat',\n",
    "# but only plot the most populous nationalities. Set a cutoff that looks right to you. \n",
    "\n",
    "# Note: the number of each 'Sexe'/'Nacionalitat' combo is in the variable 'Nombre'\n",
    "# Hint: group and count manually, and then use ggplot's geom_col and use coord_flip()\n",
    "# to make the chart horizontal\n",
    "# Bonus: Display the gender ('Sexe') in different colors, via the \"fill\" property!"
   ]
  },
  {
   "cell_type": "markdown",
   "metadata": {
    "ein.tags": "worksheet-0",
    "slideshow": {
     "slide_type": "-"
    }
   },
   "source": [
    "# Problem 3: Classes in Python"
   ]
  },
  {
   "cell_type": "code",
   "execution_count": 159,
   "metadata": {
    "autoscroll": false,
    "ein.tags": "worksheet-0",
    "slideshow": {
     "slide_type": "-"
    }
   },
   "outputs": [],
   "source": [
    "# Create a class called \"RandomClassifier\". \n",
    "\n",
    "# It's constructor should have one required parameter: 'probability'\n",
    "\n",
    "# It should have one instance method, 'predict'\n",
    "\n",
    "# The predict method should take one required parameter: 'x'\n",
    "\n",
    "# The predict method should then randomly return a 1 or 0. It should return a 1\n",
    "# with the probability given in the parameter\n",
    "\n",
    "# The following cell has a test that should pass if you've done it correctly!"
   ]
  },
  {
   "cell_type": "code",
   "execution_count": 161,
   "metadata": {
    "autoscroll": false,
    "ein.tags": "worksheet-0",
    "slideshow": {
     "slide_type": "-"
    }
   },
   "outputs": [],
   "source": [
    "import numpy as np\n",
    "\n",
    "class RandomClassifier:\n",
    "    def __init__(self, probability):\n",
    "        self.probability = probability\n",
    "    \n",
    "    def predict(self, x):\n",
    "        return np.random.binomial(size = 1, n = 1, p = self.probability)\n",
    "\n",
    " \n",
    "r = RandomClassifier(probability = .2)\n",
    "m = np.mean([r.predict(x = i) for i in np.arange(100000)])\n",
    "\n",
    "np.testing.assert_approx_equal(m, 0.2, 2)"
   ]
  },
  {
   "cell_type": "markdown",
   "metadata": {
    "ein.tags": "worksheet-0",
    "slideshow": {
     "slide_type": "-"
    }
   },
   "source": [
    "# Problem 4: Some Theory"
   ]
  },
  {
   "cell_type": "markdown",
   "metadata": {
    "ein.tags": "worksheet-0",
    "slideshow": {
     "slide_type": "-"
    }
   },
   "source": [
    "### What are pure functions and what are their strengths? (2-3 lines)"
   ]
  },
  {
   "cell_type": "markdown",
   "metadata": {
    "ein.tags": "worksheet-0",
    "slideshow": {
     "slide_type": "-"
    }
   },
   "source": [
    "A pure function is a function which:\n",
    "- Given the same input, will always return the same output.\n",
    "- Produces no side effects.\n",
    "\n",
    "Their strengths are:\n",
    "- Pure functions are more composable or modular\n",
    "- Pure functions are easy to test and refactor\n",
    "- Pure functions are memoizable\n",
    "- Pure functions can be lazy (see next question)"
   ]
  },
  {
   "cell_type": "markdown",
   "metadata": {
    "ein.tags": "worksheet-0",
    "slideshow": {
     "slide_type": "-"
    }
   },
   "source": [
    "### What is lazy evaluation and when might you use it? (2-3 lines)"
   ]
  },
  {
   "cell_type": "markdown",
   "metadata": {
    "ein.tags": "worksheet-0",
    "slideshow": {
     "slide_type": "-"
    }
   },
   "source": [
    "In programming language theory, lazy evaluation, is an evaluation strategy which delays the evaluation of an expression until its value is needed and which also avoids repeated evaluations. This can reduce the running time of certain functions by an exponential factor over other non-strict evaluation strategies, such as call-by-name.\n",
    "\n",
    "The benefits of lazy evaluation include:\n",
    "- The ability to define control flow (structures) as abstractions instead of primitives.\n",
    "- The ability to define potentially infinite data structures. This allows for more straightforward implementation of some algorithms.\n",
    "- Performance increases by avoiding needless calculations, and error conditions in evaluating compound expressions.\n",
    "\n",
    "[Source: https://en.wikipedia.org/wiki/Lazy_evaluation]"
   ]
  }
 ],
 "metadata": {
  "kernelspec": {
   "display_name": "Python 3",
   "language": "python",
   "name": "python3"
  },
  "language_info": {
   "codemirror_mode": {
    "name": "ipython",
    "version": 3
   },
   "file_extension": ".py",
   "mimetype": "text/x-python",
   "name": "python",
   "nbconvert_exporter": "python",
   "pygments_lexer": "ipython3",
   "version": "3.6.3"
  },
  "name": "exam.ipynb"
 },
 "nbformat": 4,
 "nbformat_minor": 2
}
